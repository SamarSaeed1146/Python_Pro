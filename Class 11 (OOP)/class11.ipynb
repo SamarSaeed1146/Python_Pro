{
 "cells": [
  {
   "cell_type": "code",
   "execution_count": 2,
   "metadata": {},
   "outputs": [],
   "source": [
    "# def obj1_speak():pass\n",
    "# def obj12_speak():pass\n",
    "\n",
    "# obj1_name : str = \"Samar\"\n",
    "# obj2_name : str = \"Imad\""
   ]
  },
  {
   "cell_type": "markdown",
   "metadata": {},
   "source": [
    "# Object Oriented Programming (OOP)\n",
    "* class\n",
    "    * method\n",
    "        * first argument must be additional variable (self, this or anything else)\n",
    "    * attribute\n",
    "        * connect with individual object\n",
    "    * class variable\n",
    "    * constructor\n",
    "        * def ```__init__(self,argu1,argu2,....)```\n",
    "\n",
    "    * Class variable\n",
    "        * this value use for all objects\n",
    "            * `ClassName.class_variable`\n",
    "        * \n",
    "        ```\n",
    "        class ClassName():\n",
    "            class_variable1 : type = value\n",
    "        ```\n",
    "\n",
    "## Syntax of class\n",
    "```\n",
    "class ClassName():\n",
    "    pass\n",
    "```"
   ]
  },
  {
   "cell_type": "code",
   "execution_count": 17,
   "metadata": {},
   "outputs": [],
   "source": [
    "class Teacher():\n",
    "    def __init__(self, teacher_id : int , teacher_name : str) -> None:\n",
    "        self.name = teacher_name\n",
    "        self.teacher_id = teacher_id\n",
    "\n",
    "    def speak(self, words : str):\n",
    "        print(f\"{self.name} is speaking {words}\")\n",
    "\n",
    "    def teaching(self, subject : str)->None:\n",
    "        print(f\"{self.name} is teaching {subject}\")"
   ]
  },
  {
   "cell_type": "code",
   "execution_count": 18,
   "metadata": {},
   "outputs": [],
   "source": [
    "obj1 : Teacher = Teacher(1, \"Samar Saeed\")\n",
    "obj2 : Teacher = Teacher(2, \"Yasir\")"
   ]
  },
  {
   "cell_type": "code",
   "execution_count": 23,
   "metadata": {},
   "outputs": [
    {
     "name": "stdout",
     "output_type": "stream",
     "text": [
      "1\n",
      "Samar Saeed\n",
      "2\n",
      "Yasir\n"
     ]
    }
   ],
   "source": [
    "print(obj1.teacher_id)\n",
    "print(obj1.name)\n",
    "print(obj2.teacher_id)\n",
    "print(obj2.name)"
   ]
  },
  {
   "cell_type": "code",
   "execution_count": 24,
   "metadata": {},
   "outputs": [
    {
     "name": "stdout",
     "output_type": "stream",
     "text": [
      "Samar Saeed is teaching Generative AI\n"
     ]
    }
   ],
   "source": [
    "obj1.teaching(\"Generative AI\")"
   ]
  },
  {
   "cell_type": "code",
   "execution_count": 25,
   "metadata": {},
   "outputs": [
    {
     "name": "stdout",
     "output_type": "stream",
     "text": [
      "Yasir is teaching Python\n"
     ]
    }
   ],
   "source": [
    "obj2.teaching(\"Python\")"
   ]
  },
  {
   "cell_type": "code",
   "execution_count": 26,
   "metadata": {},
   "outputs": [
    {
     "data": {
      "text/plain": [
       "['__class__',\n",
       " '__delattr__',\n",
       " '__dict__',\n",
       " '__dir__',\n",
       " '__doc__',\n",
       " '__eq__',\n",
       " '__format__',\n",
       " '__ge__',\n",
       " '__getattribute__',\n",
       " '__getstate__',\n",
       " '__gt__',\n",
       " '__hash__',\n",
       " '__init__',\n",
       " '__init_subclass__',\n",
       " '__le__',\n",
       " '__lt__',\n",
       " '__module__',\n",
       " '__ne__',\n",
       " '__new__',\n",
       " '__reduce__',\n",
       " '__reduce_ex__',\n",
       " '__repr__',\n",
       " '__setattr__',\n",
       " '__sizeof__',\n",
       " '__str__',\n",
       " '__subclasshook__',\n",
       " '__weakref__',\n",
       " 'name',\n",
       " 'speak',\n",
       " 'teacher_id',\n",
       " 'teaching']"
      ]
     },
     "execution_count": 26,
     "metadata": {},
     "output_type": "execute_result"
    }
   ],
   "source": [
    "dir(obj1)"
   ]
  },
  {
   "cell_type": "code",
   "execution_count": 27,
   "metadata": {},
   "outputs": [],
   "source": [
    "class Teacher():\n",
    "    def __init__(this, teacher_id : int , teacher_name : str) -> None:\n",
    "        this.name = teacher_name\n",
    "        this.teacher_id = teacher_id\n",
    "\n",
    "    def speak(this, words : str):\n",
    "        print(f\"{this.name} is speaking {words}\")\n",
    "\n",
    "    def teaching(this, subject : str)->None:\n",
    "        print(f\"{this.name} is teaching {subject}\")\n",
    "\n",
    "obj1 : Teacher = Teacher(1, \"Samar Saeed\")\n",
    "obj2 : Teacher = Teacher(2, \"Yasir\")"
   ]
  },
  {
   "cell_type": "markdown",
   "metadata": {},
   "source": [
    "# Class Variable\n",
    "* Class variable\n",
    "* this value use for all objects\n",
    "    * `ClassName.class_variable`\n",
    "    * object_name.class_variable\n",
    "    ```\n",
    "    class ClassName():\n",
    "        class_variable1 : type = value\n",
    "    ```"
   ]
  },
  {
   "cell_type": "code",
   "execution_count": 45,
   "metadata": {},
   "outputs": [],
   "source": [
    "class Teacher():\n",
    "    counter : int = 0 # Class Variable 1\n",
    "    help_line_number : str = \"0320-123...\" # Class Variable 2\n",
    "\n",
    "    def __init__(self, teacher_id : int , teacher_name : str) -> None:\n",
    "        self.name = teacher_name\n",
    "        self.teacher_id = teacher_id\n",
    "\n",
    "    def speak(self, words : str):\n",
    "        print(f\"{self.name} is speaking {words}\")\n",
    "\n",
    "    def teaching(self, subject : str)->None:\n",
    "        print(f\"{self.name} is teaching {subject}\")\n",
    "\n",
    "    def detail(self)->None:\n",
    "        information : str = f\"\"\"\n",
    "Teacher name is {self.name}\n",
    "Our Help line number is {Teacher.help_line_number}\n",
    "\"\"\"\n",
    "        print(information)\n",
    "\n",
    "obj1 : Teacher = Teacher(1, \"Samar Saeed\")\n",
    "obj2 : Teacher = Teacher(2, \"Yasir\")"
   ]
  },
  {
   "cell_type": "code",
   "execution_count": 46,
   "metadata": {},
   "outputs": [
    {
     "name": "stdout",
     "output_type": "stream",
     "text": [
      "0\n",
      "0\n",
      "0\n",
      "0320-123...\n",
      "0320-123...\n",
      "0320-123...\n"
     ]
    }
   ],
   "source": [
    "print(obj1.counter)\n",
    "print(obj2.counter)\n",
    "print(Teacher.counter)\n",
    "\n",
    "print(obj1.help_line_number)\n",
    "print(obj2.help_line_number)\n",
    "print(Teacher.help_line_number)"
   ]
  },
  {
   "cell_type": "code",
   "execution_count": 42,
   "metadata": {},
   "outputs": [
    {
     "name": "stdout",
     "output_type": "stream",
     "text": [
      "\n",
      "Teacher name is Samar Saeed\n",
      "Our Help line number is 0320-123...\n",
      "\n"
     ]
    }
   ],
   "source": [
    "obj1.detail()"
   ]
  },
  {
   "cell_type": "code",
   "execution_count": 49,
   "metadata": {},
   "outputs": [
    {
     "name": "stdout",
     "output_type": "stream",
     "text": [
      "1\n"
     ]
    }
   ],
   "source": [
    "class Teacher():\n",
    "    counter : int = 0 # Class Variable 1\n",
    "    help_line_number : str = \"0320-123...\" # Class Variable 2\n",
    "\n",
    "    def __init__(self, teacher_id : int , teacher_name : str) -> None:\n",
    "        self.name = teacher_name\n",
    "        self.teacher_id = teacher_id\n",
    "        Teacher.counter += 1\n",
    "\n",
    "    def speak(self, words : str):\n",
    "        print(f\"{self.name} is speaking {words}\")\n",
    "\n",
    "    def teaching(self, subject : str)->None:\n",
    "        print(f\"{self.name} is teaching {subject}\")\n",
    "\n",
    "    def detail(self)->None:\n",
    "        information : str = f\"\"\"\n",
    "Teacher name is {self.name}\n",
    "Our Help line number is {Teacher.help_line_number}\n",
    "\"\"\"\n",
    "        print(information)\n",
    "\n",
    "obj1 : Teacher = Teacher(1, \"Samar Saeed\")\n",
    "\n",
    "print(Teacher.counter)\n"
   ]
  },
  {
   "cell_type": "code",
   "execution_count": 50,
   "metadata": {},
   "outputs": [
    {
     "name": "stdout",
     "output_type": "stream",
     "text": [
      "2\n"
     ]
    }
   ],
   "source": [
    "obj2 : Teacher = Teacher(2, \"Yasir\")\n",
    "print(Teacher.counter)"
   ]
  },
  {
   "cell_type": "markdown",
   "metadata": {},
   "source": [
    "# Encapsulation\n",
    "1. Encapsulation: The concept of bundling the data (attributes) and methods (functions) that operate on the data into a single unit or class, and restricting direct access to some of the object's components.\n",
    "\n",
    "# Abstraction\n",
    "2. Abstraction: The process of hiding the complex implementation details and showing only the essential features of the object. It helps in reducing programming complexity and effort.\n",
    "\n",
    "# Inheritance\n",
    "3. Inheritance: A mechanism by which one class (child class) can inherit the attributes and methods of another class (parent class). This promotes code reuse and establishes a relationship between classes.\n",
    "\n",
    "# Polymorphism\n",
    "4. Polymorphism: The ability of different objects to respond to the same method in different ways. It allows one interface to be used for a general class of actions, with specific behavior determined by the exact nature of the situation."
   ]
  },
  {
   "cell_type": "markdown",
   "metadata": {},
   "source": [
    "## 1. Inheritance\n",
    "```\n",
    "class ChildClass(ParentClass):\n",
    "    pass\n",
    "```"
   ]
  },
  {
   "cell_type": "code",
   "execution_count": 65,
   "metadata": {},
   "outputs": [
    {
     "name": "stdout",
     "output_type": "stream",
     "text": [
      "gray\n",
      "black\n",
      "Parent method speak: How its Possible\n",
      "None\n",
      "You are looking Tv!\n",
      "None\n",
      "====Child Object====\n",
      "Parent method speak: Hello World\n",
      "None\n",
      "You are looking Technologies!\n",
      "None\n",
      "gray\n",
      "black\n",
      "Child method for teaching : Generative AI\n"
     ]
    }
   ],
   "source": [
    "class Parents():\n",
    "    def __init__(self) -> None:\n",
    "        self.eye_color : str = \"gray\"\n",
    "        self.hair_color : str = \"black\"\n",
    "\n",
    "    def speak(self, word : str)-> None:\n",
    "        print(f\"Parent method speak: {word}\")\n",
    "\n",
    "    def watching(self, object_name : str) -> None:\n",
    "        print(f\"You are looking {object_name}!\")\n",
    "\n",
    "class Child(Parents):\n",
    "    def teaching(self, subject : str = None)->None:\n",
    "        print(f\"Child method for teaching : {subject}\")\n",
    "\n",
    "obj1 : Parents = Parents()\n",
    "print(obj1.eye_color)\n",
    "print(obj1.hair_color)\n",
    "print(obj1.speak(\"How its Possible\"))\n",
    "print(obj1.watching(\"Tv\"))\n",
    "\n",
    "# Child object\n",
    "print(\"====Child Object====\")\n",
    "\n",
    "obj2 : Child = Child()\n",
    "print(obj2.speak(\"Hello World\"))\n",
    "print(obj2.watching(\"Technologies\"))\n",
    "print(obj2.eye_color)\n",
    "print(obj2.hair_color)\n",
    "obj2.teaching(\"Generative AI\")"
   ]
  },
  {
   "cell_type": "code",
   "execution_count": 72,
   "metadata": {},
   "outputs": [
    {
     "name": "stdout",
     "output_type": "stream",
     "text": [
      "Animation Artist\n",
      "['Python']\n"
     ]
    }
   ],
   "source": [
    "from typing import List\n",
    "\n",
    "class Employee:\n",
    "    def __init__(self, name : str) -> None:\n",
    "        self.name : str = name\n",
    "        self.education : str = \"\"\n",
    "        self.department : str = \"\"\n",
    "\n",
    "class Designer(Employee):\n",
    "    def __init__(self, title : str, name : str) -> None:\n",
    "        super().__init__(name)\n",
    "        self.title : str = title\n",
    "\n",
    "class Developer(Employee):\n",
    "    def __init__(self, title : str, name : str) -> None:\n",
    "        super().__init__(name)\n",
    "        self.title : str = title\n",
    "        self.programming_Skill : List[str] = [\"Python\"]\n",
    "\n",
    "designer1 : Designer = Designer(\"Animation Artist\", \"Ahmed\")\n",
    "dev1 : Developer = Developer(\"GenAI Engineer\", \"Samar Saeed\")\n",
    "\n",
    "print(designer1.title)\n",
    "print(dev1.programming_Skill)"
   ]
  },
  {
   "cell_type": "code",
   "execution_count": 9,
   "metadata": {},
   "outputs": [
    {
     "name": "stdout",
     "output_type": "stream",
     "text": [
      "object height: 6 Feet\n",
      "object eye color: Blue\n",
      "Mother Speaking function: Hello world\n"
     ]
    }
   ],
   "source": [
    "class Mother:\n",
    "    def __init__(self, name: str) -> None:\n",
    "        self.name: str = name\n",
    "        self.eye_color: str = \"Blue\"\n",
    "\n",
    "    def speaking(self, words: str) -> str:\n",
    "        return f\"Mother Speaking function: {words}\"\n",
    "\n",
    "class Father:\n",
    "    def __init__(self, name: str) -> None:\n",
    "        self.name: str = name\n",
    "        self.height: str = \"6 Feet\"\n",
    "\n",
    "class Child(Mother, Father):\n",
    "    def __init__(self, mother_name: str, father_name: str, child_name: str) -> None:\n",
    "        Mother.__init__(self, mother_name)\n",
    "        Father.__init__(self, father_name)\n",
    "        self.child_name: str = child_name  \n",
    "\n",
    "samar: Child = Child(\"Sadia\", \"Abdul\", \"Samar\")\n",
    "\n",
    "print(f\"object height: {samar.height}\")\n",
    "print(f\"object eye color: {samar.eye_color}\")\n",
    "print(samar.speaking(\"Hello world\"))\n"
   ]
  },
  {
   "cell_type": "code",
   "execution_count": 8,
   "metadata": {},
   "outputs": [
    {
     "data": {
      "text/plain": [
       "['__class__',\n",
       " '__delattr__',\n",
       " '__dict__',\n",
       " '__dir__',\n",
       " '__doc__',\n",
       " '__eq__',\n",
       " '__format__',\n",
       " '__ge__',\n",
       " '__getattribute__',\n",
       " '__getstate__',\n",
       " '__gt__',\n",
       " '__hash__',\n",
       " '__init__',\n",
       " '__init_subclass__',\n",
       " '__le__',\n",
       " '__lt__',\n",
       " '__module__',\n",
       " '__ne__',\n",
       " '__new__',\n",
       " '__reduce__',\n",
       " '__reduce_ex__',\n",
       " '__repr__',\n",
       " '__setattr__',\n",
       " '__sizeof__',\n",
       " '__str__',\n",
       " '__subclasshook__',\n",
       " '__weakref__',\n",
       " 'child_name',\n",
       " 'eye_color',\n",
       " 'height',\n",
       " 'name',\n",
       " 'speaking']"
      ]
     },
     "execution_count": 8,
     "metadata": {},
     "output_type": "execute_result"
    }
   ],
   "source": [
    "dir(samar)"
   ]
  }
 ],
 "metadata": {
  "kernelspec": {
   "display_name": "Python12",
   "language": "python",
   "name": "python3"
  },
  "language_info": {
   "codemirror_mode": {
    "name": "ipython",
    "version": 3
   },
   "file_extension": ".py",
   "mimetype": "text/x-python",
   "name": "python",
   "nbconvert_exporter": "python",
   "pygments_lexer": "ipython3",
   "version": "3.12.0"
  }
 },
 "nbformat": 4,
 "nbformat_minor": 2
}
