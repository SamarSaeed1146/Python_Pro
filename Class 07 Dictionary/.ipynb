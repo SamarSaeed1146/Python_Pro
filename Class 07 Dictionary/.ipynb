{
 "cells": [
  {
   "cell_type": "code",
   "execution_count": 1,
   "metadata": {},
   "outputs": [],
   "source": [
    "# list                 0        1        2\n",
    "data : list[str] = [\"Samar\", \"Ahmed\", \"inter\"]"
   ]
  },
  {
   "cell_type": "code",
   "execution_count": 17,
   "metadata": {},
   "outputs": [
    {
     "name": "stdout",
     "output_type": "stream",
     "text": [
      "{1, 2, 3, 4, 5, 6, 7}\n"
     ]
    }
   ],
   "source": [
    "data : set = {7,3,6,7,1,3,5,6,7,2,4,1}\n",
    "print(data)\n"
   ]
  },
  {
   "cell_type": "code",
   "execution_count": 18,
   "metadata": {},
   "outputs": [
    {
     "data": {
      "text/plain": [
       "['add',\n",
       " 'clear',\n",
       " 'copy',\n",
       " 'difference',\n",
       " 'difference_update',\n",
       " 'discard',\n",
       " 'intersection',\n",
       " 'intersection_update',\n",
       " 'isdisjoint',\n",
       " 'issubset',\n",
       " 'issuperset',\n",
       " 'pop',\n",
       " 'remove',\n",
       " 'symmetric_difference',\n",
       " 'symmetric_difference_update',\n",
       " 'union',\n",
       " 'update']"
      ]
     },
     "execution_count": 18,
     "metadata": {},
     "output_type": "execute_result"
    }
   ],
   "source": [
    "[i for i in dir(data) if \"__\" not in i] "
   ]
  },
  {
   "cell_type": "markdown",
   "metadata": {},
   "source": [
    "# Dictionary\n",
    "* key:value (items)\n",
    "    * key replacement of indexes\n",
    "    * value item\n",
    "\n",
    "* dict_variable[key]\n",
    "    * dict_variable[new_key] = new_value\n",
    "        * add new value \n",
    "        * update value "
   ]
  },
  {
   "cell_type": "code",
   "execution_count": 8,
   "metadata": {},
   "outputs": [
    {
     "name": "stdout",
     "output_type": "stream",
     "text": [
      "{'name': 'Samar', 'fname': 'Abdul', 'education': 'inter'}\n"
     ]
    }
   ],
   "source": [
    "from typing import  Dict\n",
    "# list                 0        1        2\n",
    "data : Dict[str,str] = {\"name\": \"Samar\", \"fname\": \"Abdul\",\"education\": \"inter\"}\n",
    "\n",
    "print(data)\n"
   ]
  },
  {
   "cell_type": "code",
   "execution_count": 13,
   "metadata": {},
   "outputs": [
    {
     "name": "stdout",
     "output_type": "stream",
     "text": [
      "{'name': 'Samar', 'fname': 'Abdul', 'education': 'inter', 0: 'Country'}\n",
      "Samar\n",
      "Abdul\n",
      "inter\n",
      "Country\n"
     ]
    }
   ],
   "source": [
    "from typing import  Dict, Union, Optional\n",
    "\n",
    "Key = Union[ int, str ] # create custom type\n",
    "Value = Union[ int, str, list, dict, tuple, set ]\n",
    "\n",
    "# list                          0                 1                    2\n",
    "data : Dict[Key,Value] = {\"name\": \"Samar\", \"fname\": \"Abdul\",\"education\": \"inter\", 0: \"Country\"}\n",
    "\n",
    "print(data)\n",
    "print(data[\"name\"])\n",
    "print(data[\"fname\"])\n",
    "print(data[\"education\"])\n",
    "print(data[0])\n"
   ]
  },
  {
   "cell_type": "code",
   "execution_count": 19,
   "metadata": {},
   "outputs": [
    {
     "name": "stdout",
     "output_type": "stream",
     "text": [
      "{1, 2, 3}\n",
      "[1, 2, 3]\n"
     ]
    }
   ],
   "source": [
    "abc = set = {1, 2, 3, 3, 2, 1, 1, 2, 3,}\n",
    "print(abc)\n",
    "xyz : list[int] = list(abc)\n",
    "print(xyz)"
   ]
  },
  {
   "cell_type": "code",
   "execution_count": 30,
   "metadata": {},
   "outputs": [
    {
     "name": "stdout",
     "output_type": "stream",
     "text": [
      "NA\n",
      "Samar\n"
     ]
    },
    {
     "data": {
      "text/plain": [
       "['clear',\n",
       " 'copy',\n",
       " 'fromkeys',\n",
       " 'get',\n",
       " 'items',\n",
       " 'keys',\n",
       " 'pop',\n",
       " 'popitem',\n",
       " 'setdefault',\n",
       " 'update',\n",
       " 'values']"
      ]
     },
     "execution_count": 30,
     "metadata": {},
     "output_type": "execute_result"
    }
   ],
   "source": [
    "from typing import  Dict, Union, Optional\n",
    "\n",
    "Key = Union[ int, str ] # create custom type\n",
    "Value = Union[ int, str, list, dict, tuple]\n",
    "\n",
    "# list                          0                 1                    2\n",
    "data : Dict[Key,Value] = {\"name\": \"Samar\", \"fname\": \"Abdul\",\"education\": \"inter\"}\n",
    "\n",
    "#            Key\n",
    "print(data.get(\"World\",\"NA\"))\n",
    "print(data.get(\"name\",\"NA\"))\n",
    "\n",
    "\n",
    "[i for i in dir(data) if \"__\" not in i] "
   ]
  },
  {
   "cell_type": "code",
   "execution_count": 31,
   "metadata": {},
   "outputs": [
    {
     "name": "stdout",
     "output_type": "stream",
     "text": [
      "name\n",
      "fname\n",
      "education\n"
     ]
    }
   ],
   "source": [
    "from typing import  Dict, Union, Optional\n",
    "\n",
    "Key = Union[ int, str ] # create custom type\n",
    "Value = Union[ int, str, list, dict, tuple]\n",
    "\n",
    "# list                          0                 1                    2\n",
    "data : Dict[Key,Value] = {\"name\": \"Samar\", \"fname\": \"Abdul\",\"education\": \"inter\"}\n",
    "\n",
    "for d in data:\n",
    "    print(d)\n",
    "\n",
    "\n",
    "# [i for i in dir(data) if \"__\" not in i] "
   ]
  },
  {
   "cell_type": "code",
   "execution_count": 34,
   "metadata": {},
   "outputs": [
    {
     "name": "stdout",
     "output_type": "stream",
     "text": [
      "dict_keys(['name', 'fname', 'education'])\n",
      "dict_values(['Samar', 'Abdul', 'inter'])\n",
      "dict_items([('name', 'Samar'), ('fname', 'Abdul'), ('education', 'inter')])\n"
     ]
    }
   ],
   "source": [
    "from typing import  Dict, Union, Optional\n",
    "\n",
    "Key = Union[ int, str ] # create custom type\n",
    "Value = Union[ int, str, list, dict, tuple]\n",
    "\n",
    "# list                          0                 1                    2\n",
    "data : Dict[Key,Value] = {\"name\": \"Samar\", \"fname\": \"Abdul\",\"education\": \"inter\"}\n",
    "\n",
    "print(data.keys())\n",
    "print(data.values())\n",
    "print(data.items())\n",
    "\n",
    "\n",
    "# [i for i in dir(data) if \"__\" not in i] "
   ]
  },
  {
   "cell_type": "code",
   "execution_count": 35,
   "metadata": {},
   "outputs": [
    {
     "name": "stdout",
     "output_type": "stream",
     "text": [
      "dict_keys(['name', 'fname', 'education'])\n",
      "dict_values(['Samar', 'Abdul', 'inter'])\n",
      "dict_items([('name', 'Samar'), ('fname', 'Abdul'), ('education', 'inter')])\n",
      "Samar\n",
      "Abdul\n",
      "inter\n"
     ]
    }
   ],
   "source": [
    "from typing import  Dict, Union, Optional\n",
    "\n",
    "Key = Union[ int, str ] # create custom type\n",
    "Value = Union[ int, str, list, dict, tuple]\n",
    "\n",
    "# list                          0                 1                    2\n",
    "data : Dict[Key,Value] = {\"name\": \"Samar\", \"fname\": \"Abdul\",\"education\": \"inter\"}\n",
    "\n",
    "print(data.keys())\n",
    "print(data.values())\n",
    "print(data.items())\n",
    "\n",
    "for v in data.values():\n",
    "    print(v)\n",
    "\n",
    "\n",
    "# [i for i in dir(data) if \"__\" not in i] "
   ]
  },
  {
   "cell_type": "code",
   "execution_count": 36,
   "metadata": {},
   "outputs": [
    {
     "name": "stdout",
     "output_type": "stream",
     "text": [
      "dict_keys(['name', 'fname', 'education'])\n",
      "dict_values(['Samar', 'Abdul', 'inter'])\n",
      "dict_items([('name', 'Samar'), ('fname', 'Abdul'), ('education', 'inter')])\n",
      "('name', 'Samar')\n",
      "('fname', 'Abdul')\n",
      "('education', 'inter')\n"
     ]
    }
   ],
   "source": [
    "from typing import  Dict, Union, Optional\n",
    "\n",
    "Key = Union[ int, str ] # create custom type\n",
    "Value = Union[ int, str, list, dict, tuple]\n",
    "\n",
    "data : Dict[Key,Value] = {\"name\": \"Samar\", \"fname\": \"Abdul\",\"education\": \"inter\"}\n",
    "\n",
    "print(data.keys())\n",
    "print(data.values())\n",
    "print(data.items())\n",
    "\n",
    "for k in data.items():\n",
    "    print(k)\n",
    "\n",
    "\n",
    "# [i for i in dir(data) if \"__\" not in i] "
   ]
  },
  {
   "cell_type": "code",
   "execution_count": 38,
   "metadata": {},
   "outputs": [
    {
     "name": "stdout",
     "output_type": "stream",
     "text": [
      "['clear', 'copy', 'fromkeys', 'get', 'items', 'keys', 'pop', 'popitem', 'setdefault', 'update', 'values']\n"
     ]
    }
   ],
   "source": [
    "from typing import  Dict, Union, Optional\n",
    "\n",
    "Key = Union[ int, str ] # create custom type\n",
    "Value = Union[ int, str, list, dict, tuple]\n",
    "\n",
    "data : Dict[Key,Value] = {\"name\": \"Samar\", \"fname\": \"Abdul\",\"education\": \"inter\"}\n",
    "\n",
    "\n",
    "methods : list[str] = [m for m in dir(data) if \"__\" not in m] \n",
    "print(methods)"
   ]
  },
  {
   "cell_type": "code",
   "execution_count": 42,
   "metadata": {},
   "outputs": [
    {
     "name": "stdout",
     "output_type": "stream",
     "text": [
      "Before {'name': 'Samar', 'fname': 'Abdul', 'education': 'inter'}\n",
      "After {}\n",
      "['clear', 'copy', 'fromkeys', 'get', 'items', 'keys', 'pop', 'popitem', 'setdefault', 'update', 'values']\n"
     ]
    }
   ],
   "source": [
    "from typing import  Dict, Union, Optional\n",
    "\n",
    "Key = Union[ int, str ] # create custom type\n",
    "Value = Union[ int, str, list, dict, tuple]\n",
    "\n",
    "data : Dict[Key,Value] = {\"name\": \"Samar\", \"fname\": \"Abdul\",\"education\": \"inter\"}\n",
    "\n",
    "print(\"Before\", data)\n",
    "\n",
    "data.clear()\n",
    "\n",
    "print(\"After\", data)\n",
    "\n",
    "methods : list[str] = [m for m in dir(data) if \"__\" not in m] \n",
    "print(methods)"
   ]
  },
  {
   "cell_type": "code",
   "execution_count": 47,
   "metadata": {},
   "outputs": [
    {
     "name": "stdout",
     "output_type": "stream",
     "text": [
      "Before {'name': 'Samar', 'fname': 'Abdul', 'education': 'inter'}\n"
     ]
    },
    {
     "ename": "NameError",
     "evalue": "name 'data' is not defined",
     "output_type": "error",
     "traceback": [
      "\u001b[1;31m---------------------------------------------------------------------------\u001b[0m",
      "\u001b[1;31mNameError\u001b[0m                                 Traceback (most recent call last)",
      "Cell \u001b[1;32mIn[47], line 12\u001b[0m\n\u001b[0;32m      8\u001b[0m \u001b[38;5;28mprint\u001b[39m(\u001b[38;5;124m\"\u001b[39m\u001b[38;5;124mBefore\u001b[39m\u001b[38;5;124m\"\u001b[39m, data)\n\u001b[0;32m     10\u001b[0m \u001b[38;5;28;01mdel\u001b[39;00m data\n\u001b[1;32m---> 12\u001b[0m \u001b[38;5;28mprint\u001b[39m(\u001b[38;5;124m\"\u001b[39m\u001b[38;5;124mAfter\u001b[39m\u001b[38;5;124m\"\u001b[39m, \u001b[43mdata\u001b[49m)\n\u001b[0;32m     14\u001b[0m methods : \u001b[38;5;28mlist\u001b[39m[\u001b[38;5;28mstr\u001b[39m] \u001b[38;5;241m=\u001b[39m [m \u001b[38;5;28;01mfor\u001b[39;00m m \u001b[38;5;129;01min\u001b[39;00m \u001b[38;5;28mdir\u001b[39m(data) \u001b[38;5;28;01mif\u001b[39;00m \u001b[38;5;124m\"\u001b[39m\u001b[38;5;124m__\u001b[39m\u001b[38;5;124m\"\u001b[39m \u001b[38;5;129;01mnot\u001b[39;00m \u001b[38;5;129;01min\u001b[39;00m m] \n\u001b[0;32m     15\u001b[0m \u001b[38;5;28mprint\u001b[39m(methods)\n",
      "\u001b[1;31mNameError\u001b[0m: name 'data' is not defined"
     ]
    }
   ],
   "source": [
    "from typing import  Dict, Union, Optional\n",
    "\n",
    "Key = Union[ int, str ] # create custom type\n",
    "Value = Union[ int, str, list, dict, tuple]\n",
    "\n",
    "data : Dict[Key,Value] = {\"name\": \"Samar\", \"fname\": \"Abdul\",\"education\": \"inter\"}\n",
    "\n",
    "print(\"Before\", data)\n",
    "\n",
    "del data\n",
    "\n",
    "print(\"After\", data)\n",
    "\n",
    "methods : list[str] = [m for m in dir(data) if \"__\" not in m] \n",
    "print(methods)"
   ]
  },
  {
   "cell_type": "code",
   "execution_count": 51,
   "metadata": {},
   "outputs": [
    {
     "name": "stdout",
     "output_type": "stream",
     "text": [
      "Before {'name': 'Samar', 'fname': 'Abdul', 'education': 'inter'}\n",
      "inter\n",
      "After {'name': 'Samar', 'fname': 'Abdul'}\n",
      "['clear', 'copy', 'fromkeys', 'get', 'items', 'keys', 'pop', 'popitem', 'setdefault', 'update', 'values']\n"
     ]
    }
   ],
   "source": [
    "from typing import  Dict, Union, Optional\n",
    "\n",
    "Key = Union[ int, str ] # create custom type\n",
    "Value = Union[ int, str, list, dict, tuple]\n",
    "\n",
    "data : Dict[Key,Value] = {\"name\": \"Samar\", \"fname\": \"Abdul\",\"education\": \"inter\"}\n",
    "\n",
    "print(\"Before\", data)\n",
    "\n",
    "a : str = data.pop(\"education\")\n",
    "print(a)\n",
    "\n",
    "print(\"After\", data)\n",
    "\n",
    "methods : list[str] = [m for m in dir(data) if \"__\" not in m] \n",
    "print(methods)"
   ]
  },
  {
   "cell_type": "code",
   "execution_count": 58,
   "metadata": {},
   "outputs": [
    {
     "name": "stdout",
     "output_type": "stream",
     "text": [
      "Before {'name': 'Samar', 'fname': 'Abdul', 'education': 'inter'}\n",
      "dict_items([('name', 'Samar'), ('fname', 'Abdul'), ('education', 'inter')])\n",
      "After {'name': 'Samar', 'fname': 'Abdul', 'education': 'inter'}\n",
      "['clear', 'copy', 'fromkeys', 'get', 'items', 'keys', 'pop', 'popitem', 'setdefault', 'update', 'values']\n"
     ]
    }
   ],
   "source": [
    "from typing import  Dict, Union, Optional\n",
    "\n",
    "Key = Union[ int, str ] # create custom type\n",
    "Value = Union[ int, str, list, dict, tuple]\n",
    "\n",
    "data : Dict[Key,Value] = {\"name\": \"Samar\", \"fname\": \"Abdul\",\"education\": \"inter\"}\n",
    "\n",
    "print(\"Before\", data)\n",
    "\n",
    "a : str = data.items()\n",
    "print(a)\n",
    "\n",
    "print(\"After\", data)\n",
    "\n",
    "methods : list[str] = [m for m in dir(data) if \"__\" not in m] \n",
    "print(methods)"
   ]
  },
  {
   "cell_type": "code",
   "execution_count": 57,
   "metadata": {},
   "outputs": [
    {
     "name": "stdout",
     "output_type": "stream",
     "text": [
      "Before {'name': 'Samar', 'fname': 'Abdul', 'education': 'inter'}\n",
      "NA\n",
      "After {'name': 'Samar', 'fname': 'Abdul', 'education': 'inter'}\n",
      "['clear', 'copy', 'fromkeys', 'get', 'items', 'keys', 'pop', 'popitem', 'setdefault', 'update', 'values']\n"
     ]
    }
   ],
   "source": [
    "from typing import  Dict, Union, Optional\n",
    "\n",
    "Key = Union[ int, str ] # create custom type\n",
    "Value = Union[ int, str, list, dict, tuple]\n",
    "\n",
    "data : Dict[Key,Value] = {\"name\": \"Samar\", \"fname\": \"Abdul\",\"education\": \"inter\"}\n",
    "\n",
    "print(\"Before\", data)\n",
    "\n",
    "a : str = data.get(\"Country\",\"NA\")\n",
    "print(a)\n",
    "\n",
    "print(\"After\", data)\n",
    "\n",
    "methods : list[str] = [m for m in dir(data) if \"__\" not in m] \n",
    "print(methods)"
   ]
  },
  {
   "cell_type": "code",
   "execution_count": 60,
   "metadata": {},
   "outputs": [
    {
     "name": "stdout",
     "output_type": "stream",
     "text": [
      "Before {'name': 'Samar', 'fname': 'Abdul', 'education': 'inter'}\n",
      "\n",
      "After {'name': 'Samar', 'fname': 'Abdul', 'education': 'inter', 'Country': ''}\n",
      "['clear', 'copy', 'fromkeys', 'get', 'items', 'keys', 'pop', 'popitem', 'setdefault', 'update', 'values']\n"
     ]
    }
   ],
   "source": [
    "from typing import  Dict, Union, Optional\n",
    "\n",
    "Key = Union[ int, str ] # create custom type\n",
    "Value = Union[ int, str, list, dict, tuple]\n",
    "\n",
    "data : Dict[Key,Value] = {\"name\": \"Samar\", \"fname\": \"Abdul\",\"education\": \"inter\"}\n",
    "\n",
    "print(\"Before\", data)\n",
    "\n",
    "a : str = data.setdefault(\"Country\",\"\")\n",
    "print(a)\n",
    "\n",
    "print(\"After\", data)\n",
    "\n",
    "methods : list[str] = [m for m in dir(data) if \"__\" not in m] \n",
    "print(methods)"
   ]
  },
  {
   "cell_type": "code",
   "execution_count": 61,
   "metadata": {},
   "outputs": [
    {
     "data": {
      "text/plain": [
       "{'name': 'Muhammad Samar',\n",
       " 'fname': 'Abdul',\n",
       " 'education': 'inter',\n",
       " 'age': 18,\n",
       " 'Height': '5.9 Feets'}"
      ]
     },
     "execution_count": 61,
     "metadata": {},
     "output_type": "execute_result"
    }
   ],
   "source": [
    "Key = Union[ int, str ] # create custom type\n",
    "Value = Union[ int, str, list, dict, tuple]\n",
    "\n",
    "data : Dict[Key,Value] = {\"name\": \"Samar\", \"fname\": \"Abdul\",\"education\": \"inter\"}\n",
    "\n",
    "data1 : Dict[Key,Value] = {\"name\":\"Muhammad Samar\", \"age\": 18,\"Height\":\"5.9 Feets\"}\n",
    "\n",
    "data.update(data1)\n",
    "\n",
    "data"
   ]
  },
  {
   "cell_type": "code",
   "execution_count": 69,
   "metadata": {},
   "outputs": [
    {
     "data": {
      "text/html": [
       "<div>\n",
       "<style scoped>\n",
       "    .dataframe tbody tr th:only-of-type {\n",
       "        vertical-align: middle;\n",
       "    }\n",
       "\n",
       "    .dataframe tbody tr th {\n",
       "        vertical-align: top;\n",
       "    }\n",
       "\n",
       "    .dataframe thead th {\n",
       "        text-align: right;\n",
       "    }\n",
       "</style>\n",
       "<table border=\"1\" class=\"dataframe\">\n",
       "  <thead>\n",
       "    <tr style=\"text-align: right;\">\n",
       "      <th></th>\n",
       "      <th>Roll no</th>\n",
       "      <th>Name</th>\n",
       "      <th>Age</th>\n",
       "      <th>Education</th>\n",
       "    </tr>\n",
       "  </thead>\n",
       "  <tbody>\n",
       "    <tr>\n",
       "      <th>0</th>\n",
       "      <td>1</td>\n",
       "      <td>Samar Saeed</td>\n",
       "      <td>18</td>\n",
       "      <td>Master</td>\n",
       "    </tr>\n",
       "    <tr>\n",
       "      <th>1</th>\n",
       "      <td>2</td>\n",
       "      <td>Faheem</td>\n",
       "      <td>35</td>\n",
       "      <td>Master</td>\n",
       "    </tr>\n",
       "    <tr>\n",
       "      <th>2</th>\n",
       "      <td>3</td>\n",
       "      <td>Ahmed</td>\n",
       "      <td>22</td>\n",
       "      <td>Master</td>\n",
       "    </tr>\n",
       "  </tbody>\n",
       "</table>\n",
       "</div>"
      ],
      "text/plain": [
       "   Roll no         Name  Age Education\n",
       "0        1  Samar Saeed   18    Master\n",
       "1        2       Faheem   35    Master\n",
       "2        3        Ahmed   22    Master"
      ]
     },
     "execution_count": 69,
     "metadata": {},
     "output_type": "execute_result"
    }
   ],
   "source": [
    "import pandas as pd\n",
    "from typing import Any\n",
    "\n",
    "student_data : Dict[str, list[Any]] = {\n",
    "    \"Roll no\": [1,2,3],\n",
    "    \"Name\": [\"Samar Saeed\",\"Faheem\", \"Ahmed\"], \n",
    "    \"Age\": [18,35,22], \n",
    "    \"Education\": [\"Master\",\"Master\",\"Master\"], \n",
    "    }\n",
    "\n",
    "df : pd.DataFrame = pd.DataFrame(student_data)\n",
    "df"
   ]
  },
  {
   "cell_type": "code",
   "execution_count": 71,
   "metadata": {},
   "outputs": [
    {
     "data": {
      "text/plain": [
       "{'name': 'Muhammad Samar',\n",
       " 'fname': 'Abdul',\n",
       " 'education': 'inter',\n",
       " 'age': 18,\n",
       " 'Height': '5.9 Feets'}"
      ]
     },
     "execution_count": 71,
     "metadata": {},
     "output_type": "execute_result"
    }
   ],
   "source": [
    "Key = Union[ int, str ] # create custom type\n",
    "Value = Union[ int, str, list, dict, tuple]\n",
    "\n",
    "data : Dict[Key,Value] = {\"name\": \"Samar\", \"fname\": \"Abdul\",\"education\": \"inter\"}\n",
    "\n",
    "data1 : Dict[Key,Value] = {\"name\":\"Muhammad Samar\", \"age\": 18,\"Height\":\"5.9 Feets\"}\n",
    "\n",
    "data.update(data1)\n",
    "\n",
    "data"
   ]
  },
  {
   "cell_type": "code",
   "execution_count": 79,
   "metadata": {},
   "outputs": [
    {
     "name": "stdout",
     "output_type": "stream",
     "text": [
      "<class 'str'>\n",
      "{\n",
      "   \"name\": \"Muhammad Samar\",\n",
      "   \"fname\": \"Abdul\",\n",
      "   \"education\": \"inter\",\n",
      "   \"age\": 18,\n",
      "   \"Height\": \"5.9 Feets\"\n",
      "}\n"
     ]
    }
   ],
   "source": [
    "import json\n",
    "\n",
    "data1 = json.dumps(data, indent=3)\n",
    "\n",
    "print(type(data1))\n",
    "print(data1)"
   ]
  }
 ],
 "metadata": {
  "kernelspec": {
   "display_name": "Python12",
   "language": "python",
   "name": "python3"
  },
  "language_info": {
   "codemirror_mode": {
    "name": "ipython",
    "version": 3
   },
   "file_extension": ".py",
   "mimetype": "text/x-python",
   "name": "python",
   "nbconvert_exporter": "python",
   "pygments_lexer": "ipython3",
   "version": "3.12.0"
  }
 },
 "nbformat": 4,
 "nbformat_minor": 2
}
