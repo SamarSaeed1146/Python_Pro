{
 "cells": [
  {
   "cell_type": "markdown",
   "metadata": {},
   "source": [
    "# Loop & Input From User\n",
    "* while\n",
    "* for\n",
    "* controls\n",
    "    * break\n",
    "    * continue\n",
    "    * pass\n",
    "* input with input function\n",
    "* input from console\n",
    "\n",
    "# Loop Working On Iterative Data Types\n",
    "* list\n",
    "* dictionary\n",
    "* tuple\n",
    "* str"
   ]
  },
  {
   "cell_type": "code",
   "execution_count": 18,
   "metadata": {},
   "outputs": [
    {
     "name": "stdout",
     "output_type": "stream",
     "text": [
      "[1, 2, 3, 4, 5]\n"
     ]
    }
   ],
   "source": [
    "#                 0 1 2 3 4\n",
    "l1 : list[int] = [1,2,3,4,5,]\n",
    "print(l1)"
   ]
  },
  {
   "cell_type": "code",
   "execution_count": 19,
   "metadata": {},
   "outputs": [
    {
     "name": "stdout",
     "output_type": "stream",
     "text": [
      "1\n",
      "2\n",
      "3\n",
      "4\n",
      "5\n"
     ]
    }
   ],
   "source": [
    "#                 0 1 2 3 4\n",
    "l1 : list[int] = [1,2,3,4,5,]\n",
    "\n",
    "for n in l1:\n",
    "    print(n)"
   ]
  },
  {
   "cell_type": "code",
   "execution_count": 20,
   "metadata": {},
   "outputs": [
    {
     "name": "stdout",
     "output_type": "stream",
     "text": [
      "current number 1\n",
      "current number 2\n",
      "current number 3\n",
      "current number 4\n",
      "current number 5\n"
     ]
    }
   ],
   "source": [
    "#                 0 1 2 3 4\n",
    "l1 : list[int] = [1,2,3,4,5,]\n",
    "\n",
    "for n in l1:\n",
    "    print(f\"current number {n}\")"
   ]
  },
  {
   "cell_type": "code",
   "execution_count": 21,
   "metadata": {},
   "outputs": [
    {
     "name": "stdout",
     "output_type": "stream",
     "text": [
      "current number 1\n",
      "current number 2\n",
      "current number 3\n",
      "current number 4\n",
      "current number 5\n"
     ]
    }
   ],
   "source": [
    "#                 0 1 2 3 4\n",
    "l1 : tuple[int] = (1,2,3,4,5)\n",
    "\n",
    "for n in l1:\n",
    "    print(f\"current number {n}\")"
   ]
  },
  {
   "cell_type": "code",
   "execution_count": 22,
   "metadata": {},
   "outputs": [
    {
     "name": "stdout",
     "output_type": "stream",
     "text": [
      "current character C\n",
      "current character o\n",
      "current character u\n",
      "current character n\n",
      "current character t\n",
      "current character r\n",
      "current character y\n"
     ]
    }
   ],
   "source": [
    "#                 0 1 2 3 4\n",
    "l1 : str = \"Country\"\n",
    "\n",
    "for n in l1:\n",
    "    print(f\"current character {n}\")"
   ]
  },
  {
   "cell_type": "code",
   "execution_count": null,
   "metadata": {},
   "outputs": [],
   "source": []
  },
  {
   "cell_type": "code",
   "execution_count": 23,
   "metadata": {},
   "outputs": [
    {
     "name": "stdout",
     "output_type": "stream",
     "text": [
      "dictionary key name and value is samar\n",
      "dictionary key age and value is 18\n"
     ]
    }
   ],
   "source": [
    "#                 0 1 2 3 4\n",
    "l1 : dict[str,str] = {\"name\": \"samar\",\"age\":\"18\",}\n",
    "\n",
    "for k in l1:\n",
    "    print(f\"dictionary key {k} and value is {l1[k]}\")"
   ]
  },
  {
   "cell_type": "code",
   "execution_count": 24,
   "metadata": {},
   "outputs": [
    {
     "ename": "TypeError",
     "evalue": "'set' object is not subscriptable",
     "output_type": "error",
     "traceback": [
      "\u001b[1;31m---------------------------------------------------------------------------\u001b[0m",
      "\u001b[1;31mTypeError\u001b[0m                                 Traceback (most recent call last)",
      "Cell \u001b[1;32mIn[24], line 5\u001b[0m\n\u001b[0;32m      2\u001b[0m l1 : \u001b[38;5;28mset\u001b[39m[\u001b[38;5;28mstr\u001b[39m] \u001b[38;5;241m=\u001b[39m {\u001b[38;5;241m1\u001b[39m,\u001b[38;5;241m2\u001b[39m,\u001b[38;5;241m1\u001b[39m,\u001b[38;5;241m3\u001b[39m,\u001b[38;5;241m3\u001b[39m,\u001b[38;5;241m2\u001b[39m,\u001b[38;5;241m1\u001b[39m,\u001b[38;5;241m3\u001b[39m,\u001b[38;5;241m2\u001b[39m,\u001b[38;5;241m2\u001b[39m,\u001b[38;5;241m1\u001b[39m}\n\u001b[0;32m      4\u001b[0m \u001b[38;5;28;01mfor\u001b[39;00m k \u001b[38;5;129;01min\u001b[39;00m l1:\n\u001b[1;32m----> 5\u001b[0m     \u001b[38;5;28mprint\u001b[39m(\u001b[38;5;124mf\u001b[39m\u001b[38;5;124m\"\u001b[39m\u001b[38;5;124mdictionary key \u001b[39m\u001b[38;5;132;01m{\u001b[39;00mk\u001b[38;5;132;01m}\u001b[39;00m\u001b[38;5;124m and value is \u001b[39m\u001b[38;5;132;01m{\u001b[39;00m\u001b[43ml1\u001b[49m\u001b[43m[\u001b[49m\u001b[43mk\u001b[49m\u001b[43m]\u001b[49m\u001b[38;5;132;01m}\u001b[39;00m\u001b[38;5;124m\"\u001b[39m)\n",
      "\u001b[1;31mTypeError\u001b[0m: 'set' object is not subscriptable"
     ]
    }
   ],
   "source": [
    "#                 0 1 2 3 4\n",
    "l1 : set[str] = {1,2,1,3,3,2,1,3,2,2,1}\n",
    "\n",
    "for k in l1:\n",
    "    print(f\"dictionary key {k} and value is {l1[k]}\")"
   ]
  },
  {
   "cell_type": "code",
   "execution_count": null,
   "metadata": {},
   "outputs": [
    {
     "name": "stdout",
     "output_type": "stream",
     "text": [
      "value from list of set : 1 \n",
      "value from list of set : 2 \n",
      "value from list of set : 3 \n"
     ]
    }
   ],
   "source": [
    "#                 0 1 2 3 4\n",
    "l1 : list[set[str]] = list({1,2,1,3,3,2,1,3,2,2,1})\n",
    "\n",
    "for k in l1:\n",
    "    print(f\"value from list of set : {k} \")"
   ]
  },
  {
   "cell_type": "markdown",
   "metadata": {},
   "source": [
    "# Input From User\n",
    "* input function\n",
    "    * default type = string\n",
    "* sys.argv (for console input in abc.py file)\n",
    "    * default type = object"
   ]
  },
  {
   "cell_type": "code",
   "execution_count": null,
   "metadata": {},
   "outputs": [
    {
     "name": "stdout",
     "output_type": "stream",
     "text": [
      "<class 'str'>\n",
      "Welcome Dear User Mr/Miss Samar!\n"
     ]
    }
   ],
   "source": [
    "name : str = input(\"what is your name :\")\n",
    "\n",
    "print(type(name))\n",
    "print(f\"Welcome Dear User Mr/Miss {name}!\")"
   ]
  },
  {
   "cell_type": "markdown",
   "metadata": {},
   "source": [
    "# While Loop\n",
    "```\n",
    "while logic: True/False:\n",
    "    loop_body\n",
    "```"
   ]
  },
  {
   "cell_type": "code",
   "execution_count": 25,
   "metadata": {},
   "outputs": [
    {
     "name": "stdout",
     "output_type": "stream",
     "text": [
      "current number is : 0\n",
      "current number is : 1\n",
      "current number is : 2\n",
      "current number is : 3\n",
      "current number is : 4\n",
      "current number is : 5\n",
      "current number is : 6\n",
      "current number is : 7\n",
      "current number is : 8\n",
      "current number is : 9\n"
     ]
    }
   ],
   "source": [
    "flag : bool = True\n",
    "\n",
    "current_number : int = 0\n",
    "\n",
    "while flag:\n",
    "    print(f\"current number is : {current_number}\")\n",
    "    current_number += 1\n",
    "\n",
    "    if current_number == 10:\n",
    "        break"
   ]
  },
  {
   "cell_type": "code",
   "execution_count": 26,
   "metadata": {},
   "outputs": [
    {
     "name": "stdout",
     "output_type": "stream",
     "text": [
      "current index is : 0 and list value is 100\n",
      "current index is : 1 and list value is 200\n",
      "current index is : 2 and list value is 300\n"
     ]
    }
   ],
   "source": [
    "l1 : list[int] = [100,200,300]\n",
    "\n",
    "index : int = 0\n",
    "\n",
    "while index < len(l1):\n",
    "    print(f\"current index is : {index} and list value is {l1[index]}\")\n",
    "    index += 1\n"
   ]
  },
  {
   "cell_type": "code",
   "execution_count": 29,
   "metadata": {},
   "outputs": [
    {
     "name": "stdout",
     "output_type": "stream",
     "text": [
      "write quite or exit to stop this program\n",
      "write quite or exit to stop this program\n",
      "write quite or exit to stop this program\n"
     ]
    },
    {
     "data": {
      "text/plain": [
       "[{'name': 'samar', 'education': 'bb'}, {'name': 'Amir', 'education': 'kj'}]"
      ]
     },
     "metadata": {},
     "output_type": "display_data"
    }
   ],
   "source": [
    "data : list[dict[str,str]] = []\n",
    "\n",
    "flag : bool = True\n",
    "\n",
    "while flag:\n",
    "    print(\"write quite or exit to stop this program\")\n",
    "    name : str = input (\"Your good name ? : \")\n",
    "    education : str = input (\"Your last education ? : \")\n",
    "\n",
    "    if name in [\"exit\",\"quite\",\"close\",\"stop\"] or education in [\"exit\",\"quite\",\"close\",\"stop\"] :\n",
    "        flag = False\n",
    "        break\n",
    "    data.append({\"name\": name,\"education\": education})\n",
    "\n",
    "display(data)"
   ]
  },
  {
   "cell_type": "markdown",
   "metadata": {},
   "source": [
    "# Controls\n",
    "* break\n",
    "* continue\n",
    "    * skip\n",
    "* pass"
   ]
  },
  {
   "cell_type": "code",
   "execution_count": 30,
   "metadata": {},
   "outputs": [
    {
     "name": "stdout",
     "output_type": "stream",
     "text": [
      "1\n",
      "2\n",
      "3\n",
      "4\n",
      "5\n"
     ]
    }
   ],
   "source": [
    "for i in range(1,11):\n",
    "    print(i)\n",
    "    if i == 5:\n",
    "        break"
   ]
  },
  {
   "cell_type": "code",
   "execution_count": 31,
   "metadata": {},
   "outputs": [
    {
     "name": "stdout",
     "output_type": "stream",
     "text": [
      "2 x 1 = 2\n"
     ]
    }
   ],
   "source": [
    "for i in range(1,11):\n",
    "    print(f\"2 x {i} = {i*2}\")\n",
    "    break"
   ]
  },
  {
   "cell_type": "code",
   "execution_count": 32,
   "metadata": {},
   "outputs": [
    {
     "name": "stdout",
     "output_type": "stream",
     "text": [
      "2 x 1 = 2\n",
      "2 x 2 = 4\n",
      "2 x 3 = 6\n",
      "2 x 4 = 8\n",
      "2 x 5 = 10\n",
      "2 x 6 = 12\n",
      "2 x 7 = 14\n",
      "2 x 8 = 16\n",
      "2 x 9 = 18\n",
      "2 x 10 = 20\n"
     ]
    }
   ],
   "source": [
    "for i in range(1,11):\n",
    "    print(f\"2 x {i} = {i*2}\")"
   ]
  },
  {
   "cell_type": "markdown",
   "metadata": {},
   "source": [
    "* continue"
   ]
  },
  {
   "cell_type": "code",
   "execution_count": 33,
   "metadata": {},
   "outputs": [
    {
     "name": "stdout",
     "output_type": "stream",
     "text": [
      "1\n",
      "2\n",
      "3\n",
      "4\n",
      "6\n",
      "7\n",
      "8\n",
      "9\n",
      "10\n"
     ]
    }
   ],
   "source": [
    "for i in range(1, 11):  # Creating a range from 1 to 10\n",
    "    if i == 5:\n",
    "        continue  # Skipping the iteration when i is 5\n",
    "    print(i)"
   ]
  },
  {
   "cell_type": "markdown",
   "metadata": {},
   "source": [
    "* pass"
   ]
  },
  {
   "cell_type": "code",
   "execution_count": 34,
   "metadata": {},
   "outputs": [],
   "source": [
    "for i in range(1, 1000):\n",
    "    pass"
   ]
  },
  {
   "cell_type": "code",
   "execution_count": 36,
   "metadata": {},
   "outputs": [],
   "source": [
    "def abc(a : int , b : int) -> int :\n",
    "    pass"
   ]
  }
 ],
 "metadata": {
  "kernelspec": {
   "display_name": "Python12",
   "language": "python",
   "name": "python3"
  },
  "language_info": {
   "codemirror_mode": {
    "name": "ipython",
    "version": 3
   },
   "file_extension": ".py",
   "mimetype": "text/x-python",
   "name": "python",
   "nbconvert_exporter": "python",
   "pygments_lexer": "ipython3",
   "version": "3.12.0"
  }
 },
 "nbformat": 4,
 "nbformat_minor": 2
}
