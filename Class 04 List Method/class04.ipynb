{
 "cells": [
  {
   "cell_type": "code",
   "execution_count": 1,
   "metadata": {},
   "outputs": [],
   "source": [
    "name1 : str = \"Samar\"\n",
    "name2 : str = \"Ali\"\n",
    "name3 : str = \"Saeed\""
   ]
  },
  {
   "cell_type": "markdown",
   "metadata": {},
   "source": [
    "# List\n",
    "* dynamic length\n",
    "* hetrogenous data types (Multiple type)\n",
    "* index\n",
    "    * positive 0 to n-1\n",
    "    * negative -1 to length\n",
    "* slicing\n",
    "    * variable `names[start:end:step]`\n",
    "    * start : int = include\n",
    "    * end : int = n-1\n",
    "    * step : int = sequance"
   ]
  },
  {
   "cell_type": "code",
   "execution_count": 3,
   "metadata": {},
   "outputs": [
    {
     "name": "stdout",
     "output_type": "stream",
     "text": [
      "Samar\n",
      "Hamzah\n"
     ]
    }
   ],
   "source": [
    "# Old Method\n",
    "\n",
    "# ->        0        1         2\n",
    "names = [\"Samar\", \"Hamzah\", \"Khan\"]\n",
    "# <-       -3        -2       -1\n",
    "\n",
    "print(names[0])\n",
    "print(names[-2])"
   ]
  },
  {
   "cell_type": "code",
   "execution_count": 9,
   "metadata": {},
   "outputs": [
    {
     "name": "stdout",
     "output_type": "stream",
     "text": [
      "name of list Hamzah\n"
     ]
    }
   ],
   "source": [
    "from typing import Any\n",
    "\n",
    "# ->                   0        1         2\n",
    "name : list[Any] = [\"Samar\", \"Hamzah\", \"Abdul\"]\n",
    "# <-                  -3        -2       -1\n",
    "\n",
    "print(f'name of list {names[-2]}')"
   ]
  },
  {
   "cell_type": "code",
   "execution_count": 13,
   "metadata": {},
   "outputs": [
    {
     "name": "stdout",
     "output_type": "stream",
     "text": [
      "<class 'list'>\n",
      "<class 'str'>\n",
      "Name of List HAMZAH\n"
     ]
    }
   ],
   "source": [
    "from typing import Any\n",
    "\n",
    "# ->                    0        1         2\n",
    "names : list[Any] = [\"Samar\", \"Hamzah\", \"Abdul\"]\n",
    "# <-                   -3        -2       -1\n",
    "\n",
    "print(type(names))\n",
    "print(type(names[-2]))\n",
    "print(f'Name of List {names[-2].upper()}')"
   ]
  },
  {
   "cell_type": "code",
   "execution_count": 2,
   "metadata": {},
   "outputs": [
    {
     "name": "stdout",
     "output_type": "stream",
     "text": [
      "['A', 'B', 'C', 'D', 'E', 'F', 'G', 'H', 'I', 'J', 'K', 'L', 'M', 'N', 'O', 'P', 'Q', 'R', 'S', 'T', 'U', 'V', 'W', 'X', 'Y', 'Z']\n"
     ]
    }
   ],
   "source": [
    "characters : list[str] = list(\"ABCDEFGHIJKLMNOPQRSTUVWXYZ\")\n",
    "\n",
    "print(characters)"
   ]
  },
  {
   "cell_type": "code",
   "execution_count": 5,
   "metadata": {},
   "outputs": [
    {
     "name": "stdout",
     "output_type": "stream",
     "text": [
      "['A', 'B']\n"
     ]
    }
   ],
   "source": [
    "#                         0    1    2\n",
    "caracters : list[str] = ['A', 'B', 'C', 'D', 'E', 'F', 'G', 'H', 'I', 'J', 'K', 'L', 'M', 'N', 'O', 'P', 'Q', 'R', 'S', 'T', 'U', 'V', 'W', 'X', 'Y', 'Z']\n",
    "#                        -26  -25\n",
    "print(characters[0:2])\n"
   ]
  },
  {
   "cell_type": "code",
   "execution_count": 14,
   "metadata": {},
   "outputs": [
    {
     "name": "stdout",
     "output_type": "stream",
     "text": [
      "['A', 'B']\n",
      "['A', 'B']\n",
      "['A', 'B']\n",
      "['A', 'B']\n",
      "['A', 'B']\n",
      "['A', 'C', 'E', 'G', 'I', 'K', 'M', 'O', 'Q', 'S', 'U', 'W', 'Y']\n",
      "['Z', 'Y', 'X', 'W', 'V', 'U', 'T', 'S', 'R', 'Q', 'P', 'O', 'N', 'M', 'L', 'K', 'J', 'I', 'H', 'G', 'F', 'E', 'D', 'C', 'B', 'A']\n"
     ]
    }
   ],
   "source": [
    "#                         0    1    2\n",
    "caracters : list[str] = ['A', 'B', 'C', 'D', 'E', 'F', 'G', 'H', 'I', 'J', 'K', 'L', 'M', 'N', 'O', 'P', 'Q', 'R', 'S', 'T', 'U', 'V', 'W', 'X', 'Y', 'Z']\n",
    "#                        -26  -25\n",
    "print(characters[0:2])\n",
    "print(characters[:2])\n",
    "print(characters[-26:-24])\n",
    "print(characters[0:2:1])\n",
    "print(characters[0:2:])\n",
    "print(characters[::2])\n",
    "print(characters[::-1]) # <- reverse"
   ]
  },
  {
   "cell_type": "markdown",
   "metadata": {},
   "source": [
    "# List Method"
   ]
  },
  {
   "cell_type": "code",
   "execution_count": 17,
   "metadata": {},
   "outputs": [
    {
     "name": "stdout",
     "output_type": "stream",
     "text": [
      "['Samar', 'Hamzah', 'Abdul', 20, True]\n"
     ]
    }
   ],
   "source": [
    "# ->                   0        1         2\n",
    "name : list[any] = [\"Samar\", \"Hamzah\", \"Abdul\", 20, True]\n",
    "# <-                  -3        -2       -1\n",
    "\n",
    "print(name)\n",
    "name[0] = \"Samar Saeed\" # -> mutable -> editable"
   ]
  },
  {
   "cell_type": "code",
   "execution_count": 19,
   "metadata": {},
   "outputs": [
    {
     "name": "stdout",
     "output_type": "stream",
     "text": [
      "['Samar', 'Hamzah', 'Abdul', 20, True]\n",
      "['Samar', 'Hamzah', 'Abdul', True]\n"
     ]
    }
   ],
   "source": [
    "# ->                   0        1         2\n",
    "name : list[any] = [\"Samar\", \"Hamzah\", \"Abdul\", 20, True]\n",
    "# <-                  -3        -2       -1\n",
    "\n",
    "print(name)\n",
    "\n",
    "del name[3] # delete 3 index value\n",
    "\n",
    "print(name)"
   ]
  },
  {
   "cell_type": "code",
   "execution_count": 28,
   "metadata": {},
   "outputs": [
    {
     "name": "stdout",
     "output_type": "stream",
     "text": [
      "[]\n"
     ]
    }
   ],
   "source": [
    "a : list[int] = [1, 2, 3, 4,]\n",
    "\n",
    "a.clear()\n",
    "\n",
    "print(a)"
   ]
  },
  {
   "cell_type": "markdown",
   "metadata": {},
   "source": [
    "# Help\n",
    "* help(object)\n",
    "* object?\n",
    "* object??\n",
    "* ?object\n",
    "* ??object"
   ]
  },
  {
   "cell_type": "code",
   "execution_count": 20,
   "metadata": {},
   "outputs": [
    {
     "name": "stdout",
     "output_type": "stream",
     "text": [
      "Help on built-in function print in module builtins:\n",
      "\n",
      "print(*args, sep=' ', end='\\n', file=None, flush=False)\n",
      "    Prints the values to a stream, or to sys.stdout by default.\n",
      "\n",
      "    sep\n",
      "      string inserted between values, default a space.\n",
      "    end\n",
      "      string appended after the last value, default a newline.\n",
      "    file\n",
      "      a file-like object (stream); defaults to the current sys.stdout.\n",
      "    flush\n",
      "      whether to forcibly flush the stream.\n",
      "\n"
     ]
    }
   ],
   "source": [
    "help(print)"
   ]
  },
  {
   "cell_type": "markdown",
   "metadata": {},
   "source": [
    "# pop method"
   ]
  },
  {
   "cell_type": "code",
   "execution_count": 22,
   "metadata": {},
   "outputs": [
    {
     "name": "stdout",
     "output_type": "stream",
     "text": [
      "['Samar', 'Hamzah', 'Abdul', 20, True]\n",
      "True\n"
     ]
    }
   ],
   "source": [
    "# ->                   0        1         2\n",
    "name : list[any] = [\"Samar\", \"Hamzah\", \"Abdul\", 20, True]\n",
    "# <-                  -3        -2       -1\n",
    "\n",
    "print(name)\n",
    "\n",
    "a : str = name.pop() # pop return method\n",
    "\n",
    "print(a)"
   ]
  },
  {
   "cell_type": "code",
   "execution_count": 23,
   "metadata": {},
   "outputs": [
    {
     "name": "stdout",
     "output_type": "stream",
     "text": [
      "['Samar', 'Hamzah', 'Abdul', 20, True]\n",
      "Samar\n"
     ]
    }
   ],
   "source": [
    "# ->                   0        1         2\n",
    "name : list[any] = [\"Samar\", \"Hamzah\", \"Abdul\", 20, True]\n",
    "# <-                  -3        -2       -1\n",
    "\n",
    "print(name)\n",
    "\n",
    "a : str = name.pop(0) # pop return method\n",
    "\n",
    "print(a)"
   ]
  },
  {
   "cell_type": "markdown",
   "metadata": {},
   "source": [
    "# append method add element in last"
   ]
  },
  {
   "cell_type": "code",
   "execution_count": 25,
   "metadata": {},
   "outputs": [
    {
     "name": "stdout",
     "output_type": "stream",
     "text": [
      "['Samar Saeed', 'Abdul', 'Faheem']\n"
     ]
    }
   ],
   "source": [
    "names : list[str] = []\n",
    "\n",
    "names.append(\"Samar Saeed\")\n",
    "names.append(\"Abdul\")\n",
    "names.append(\"Faheem\")\n",
    "\n",
    "print(names)"
   ]
  },
  {
   "cell_type": "markdown",
   "metadata": {},
   "source": [
    "# insert method"
   ]
  },
  {
   "cell_type": "code",
   "execution_count": 27,
   "metadata": {},
   "outputs": [
    {
     "name": "stdout",
     "output_type": "stream",
     "text": [
      "['a', 'b', 'c', 'd', 'e']\n",
      "['a', 'Ahmed', 'b', 'c', 'd', 'e']\n"
     ]
    }
   ],
   "source": [
    "name : list[str] = [\"a\", \"b\", \"c\", \"d\", \"e\",]\n",
    "\n",
    "print(name)\n",
    "\n",
    "name.insert(1, \"Ahmed\")\n",
    "\n",
    "print(name)"
   ]
  },
  {
   "cell_type": "code",
   "execution_count": 29,
   "metadata": {},
   "outputs": [
    {
     "name": "stdout",
     "output_type": "stream",
     "text": [
      "['a', 'b', 'c']\n",
      "['a', 'b', 'c']\n"
     ]
    }
   ],
   "source": [
    "a : list[str] = [\"a\", \"b\", \"c\"]\n",
    "b = a\n",
    "\n",
    "print(a)\n",
    "print(b)"
   ]
  },
  {
   "cell_type": "code",
   "execution_count": 30,
   "metadata": {},
   "outputs": [
    {
     "name": "stdout",
     "output_type": "stream",
     "text": [
      "['a', 'b', 'c']\n",
      "['a', 'b', 'c']\n",
      "['Capital', 'b', 'c']\n",
      "['Capital', 'b', 'c']\n"
     ]
    }
   ],
   "source": [
    "a : list[str] = [\"a\", \"b\", \"c\"]\n",
    "b = a\n",
    "\n",
    "print(a)\n",
    "print(b)\n",
    "\n",
    "b[0] = \"Capital\" # both variable updated\n",
    "\n",
    "print(a)\n",
    "print(b)"
   ]
  },
  {
   "cell_type": "code",
   "execution_count": 31,
   "metadata": {},
   "outputs": [
    {
     "name": "stdout",
     "output_type": "stream",
     "text": [
      "['a', 'b', 'c']\n",
      "['a', 'b', 'c']\n",
      "['a', 'b', 'c']\n",
      "['Capital', 'b', 'c']\n"
     ]
    }
   ],
   "source": [
    "a : list[str] = [\"a\", \"b\", \"c\"]\n",
    "b = a.copy()\n",
    "\n",
    "print(a)\n",
    "print(b)\n",
    "\n",
    "b[0] = \"Capital\" # both variable updated\n",
    "\n",
    "print(a)\n",
    "print(b)"
   ]
  },
  {
   "cell_type": "code",
   "execution_count": 32,
   "metadata": {},
   "outputs": [
    {
     "name": "stdout",
     "output_type": "stream",
     "text": [
      "4\n",
      "2\n"
     ]
    }
   ],
   "source": [
    "# count\n",
    "\n",
    "name : list[str] = [\"a\", \"a\", \"a\", \"b\", \"b\", \"c\", \"c\", \"c\",\"c\"]\n",
    "\n",
    "print(name.count(\"c\"))\n",
    "print(name.count(\"b\"))"
   ]
  },
  {
   "cell_type": "code",
   "execution_count": 33,
   "metadata": {},
   "outputs": [
    {
     "data": {
      "text/plain": [
       "['Samar', 'Saif', 'Ahmed', ['Junaid', 'Hamza']]"
      ]
     },
     "execution_count": 33,
     "metadata": {},
     "output_type": "execute_result"
    }
   ],
   "source": [
    "names : list[str] = [\"Samar\", \"Saif\", \"Ahmed\"]\n",
    "\n",
    "new_faculty_members : list[str] = [\"Junaid\", \"Hamza\"]\n",
    "\n",
    "names.append(new_faculty_members)\n",
    "\n",
    "names"
   ]
  },
  {
   "cell_type": "code",
   "execution_count": 34,
   "metadata": {},
   "outputs": [
    {
     "data": {
      "text/plain": [
       "['Samar', 'Saif', 'Ahmed', 'Junaid', 'Hamza']"
      ]
     },
     "execution_count": 34,
     "metadata": {},
     "output_type": "execute_result"
    }
   ],
   "source": [
    "names : list[str] = [\"Samar\", \"Saif\", \"Ahmed\"]\n",
    "\n",
    "new_faculty_members : list[str] = [\"Junaid\", \"Hamza\"]\n",
    "\n",
    "names.extend(new_faculty_members)\n",
    "\n",
    "names"
   ]
  },
  {
   "cell_type": "code",
   "execution_count": 37,
   "metadata": {},
   "outputs": [
    {
     "data": {
      "text/plain": [
       "['Saif', 'Ahmed', 'Junaid', 'Hamza']"
      ]
     },
     "execution_count": 37,
     "metadata": {},
     "output_type": "execute_result"
    }
   ],
   "source": [
    "names: list[str] = ['Samar', 'Saif', 'Ahmed', 'Junaid', 'Hamza']\n",
    "\n",
    "names.remove(\"Samar\")\n",
    "\n",
    "names"
   ]
  },
  {
   "cell_type": "code",
   "execution_count": 38,
   "metadata": {},
   "outputs": [
    {
     "name": "stdout",
     "output_type": "stream",
     "text": [
      "['Samar', 'Saif', 'Ahmed', 'Junaid', 'Hamza']\n",
      "['Hamza', 'Junaid', 'Ahmed', 'Saif', 'Samar']\n"
     ]
    }
   ],
   "source": [
    "names: list[str] = ['Samar', 'Saif', 'Ahmed', 'Junaid', 'Hamza']\n",
    "\n",
    "print(names)\n",
    "\n",
    "names.reverse() # in-memory = change real data\n",
    "\n",
    "print(names)"
   ]
  },
  {
   "cell_type": "code",
   "execution_count": 39,
   "metadata": {},
   "outputs": [
    {
     "name": "stdout",
     "output_type": "stream",
     "text": [
      "['Samar', 'Saif', 'Ahmed', 'Junaid', 'Hamza']\n",
      "['Ahmed', 'Hamza', 'Junaid', 'Saif', 'Samar']\n"
     ]
    }
   ],
   "source": [
    "names: list[str] = ['Samar', 'Saif', 'Ahmed', 'Junaid', 'Hamza']\n",
    "\n",
    "print(names)\n",
    "\n",
    "names.sort() \n",
    "\n",
    "print(names)"
   ]
  },
  {
   "cell_type": "code",
   "execution_count": 40,
   "metadata": {},
   "outputs": [
    {
     "name": "stdout",
     "output_type": "stream",
     "text": [
      "['Samar', 'Saif', 'Ahmed', 'Junaid', 'Hamza']\n",
      "['Samar', 'Saif', 'Junaid', 'Hamza', 'Ahmed']\n"
     ]
    }
   ],
   "source": [
    "names: list[str] = ['Samar', 'Saif', 'Ahmed', 'Junaid', 'Hamza']\n",
    "\n",
    "print(names)\n",
    "\n",
    "names.sort(reverse=True) \n",
    "\n",
    "print(names)"
   ]
  }
 ],
 "metadata": {
  "kernelspec": {
   "display_name": "Python12",
   "language": "python",
   "name": "python3"
  },
  "language_info": {
   "codemirror_mode": {
    "name": "ipython",
    "version": 3
   },
   "file_extension": ".py",
   "mimetype": "text/x-python",
   "name": "python",
   "nbconvert_exporter": "python",
   "pygments_lexer": "ipython3",
   "version": "3.12.0"
  }
 },
 "nbformat": 4,
 "nbformat_minor": 2
}
