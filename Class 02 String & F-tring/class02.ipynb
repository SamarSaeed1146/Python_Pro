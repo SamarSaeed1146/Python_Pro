{
 "cells": [
  {
   "cell_type": "markdown",
   "metadata": {},
   "source": [
    "# String & F-String"
   ]
  },
  {
   "cell_type": "code",
   "execution_count": 1,
   "metadata": {},
   "outputs": [
    {
     "name": "stdout",
     "output_type": "stream",
     "text": [
      "name\n"
     ]
    }
   ],
   "source": [
    "print(\"name\")"
   ]
  },
  {
   "cell_type": "code",
   "execution_count": 2,
   "metadata": {},
   "outputs": [
    {
     "ename": "NameError",
     "evalue": "name 'name' is not defined",
     "output_type": "error",
     "traceback": [
      "\u001b[1;31m---------------------------------------------------------------------------\u001b[0m",
      "\u001b[1;31mNameError\u001b[0m                                 Traceback (most recent call last)",
      "Cell \u001b[1;32mIn[2], line 1\u001b[0m\n\u001b[1;32m----> 1\u001b[0m \u001b[38;5;28mprint\u001b[39m(\u001b[43mname\u001b[49m)\n",
      "\u001b[1;31mNameError\u001b[0m: name 'name' is not defined"
     ]
    }
   ],
   "source": [
    "print(name)"
   ]
  },
  {
   "cell_type": "code",
   "execution_count": 3,
   "metadata": {},
   "outputs": [
    {
     "name": "stdout",
     "output_type": "stream",
     "text": [
      "Samar Saeed\n"
     ]
    }
   ],
   "source": [
    "name : str = \"Samar Saeed\"\n",
    "print(name)"
   ]
  },
  {
   "cell_type": "markdown",
   "metadata": {},
   "source": [
    "# String Data Type In Python"
   ]
  },
  {
   "cell_type": "code",
   "execution_count": 8,
   "metadata": {},
   "outputs": [
    {
     "name": "stdout",
     "output_type": "stream",
     "text": [
      "<class 'str'>\n",
      "Samar Saeed\n"
     ]
    }
   ],
   "source": [
    "#  boundries\n",
    "#  'string text', \"string text\", '''string text''', \"\"\"string\"\"\"\n",
    "#  string text type script\n",
    "name : str = \"Samar Saeed\"\n",
    "print(type(name))\n",
    "print(name)\n"
   ]
  },
  {
   "cell_type": "code",
   "execution_count": 7,
   "metadata": {},
   "outputs": [
    {
     "name": "stdout",
     "output_type": "stream",
     "text": [
      "<class 'str'>\n",
      "Samar Saeed\n"
     ]
    }
   ],
   "source": [
    "#  boundries\n",
    "#  'string text', \"string text\", '''string text''', \"\"\"string\"\"\"\n",
    "#  string text type script\n",
    "\n",
    "name : str = 'Samar Saeed'\n",
    "print(type(name))\n",
    "print(name)\n"
   ]
  },
  {
   "cell_type": "code",
   "execution_count": 10,
   "metadata": {},
   "outputs": [
    {
     "ename": "SyntaxError",
     "evalue": "unterminated string literal (detected at line 1) (1964081520.py, line 1)",
     "output_type": "error",
     "traceback": [
      "\u001b[1;36m  Cell \u001b[1;32mIn[10], line 1\u001b[1;36m\u001b[0m\n\u001b[1;33m    message : str = 'PIAIC Student Card \\n Father's Name'\u001b[0m\n\u001b[1;37m                                                        ^\u001b[0m\n\u001b[1;31mSyntaxError\u001b[0m\u001b[1;31m:\u001b[0m unterminated string literal (detected at line 1)\n"
     ]
    }
   ],
   "source": [
    "message : str = 'PIAIC Student Card \\n Father's Name'\n",
    "print (message)"
   ]
  },
  {
   "cell_type": "code",
   "execution_count": 11,
   "metadata": {},
   "outputs": [
    {
     "name": "stdout",
     "output_type": "stream",
     "text": [
      "PIAIC \"Student Card\" \n",
      " Father Name\n"
     ]
    }
   ],
   "source": [
    "message : str = 'PIAIC \"Student Card\" \\n Father Name'\n",
    "print (message)"
   ]
  },
  {
   "cell_type": "code",
   "execution_count": 12,
   "metadata": {},
   "outputs": [
    {
     "name": "stdout",
     "output_type": "stream",
     "text": [
      "PIAIC Student Card \n",
      " Father's Name\n"
     ]
    }
   ],
   "source": [
    "message : str = 'PIAIC Student Card \\n Father\\'s Name'\n",
    "print (message)"
   ]
  },
  {
   "cell_type": "code",
   "execution_count": 9,
   "metadata": {},
   "outputs": [
    {
     "name": "stdout",
     "output_type": "stream",
     "text": [
      "PIAIC Student Card \n",
      " Father's Name\n"
     ]
    }
   ],
   "source": [
    "message : str = \"PIAIC Student Card \\n Father's Name\"\n",
    "print (message)"
   ]
  },
  {
   "cell_type": "code",
   "execution_count": 13,
   "metadata": {},
   "outputs": [
    {
     "data": {
      "text/plain": [
       "'ab'"
      ]
     },
     "execution_count": 13,
     "metadata": {},
     "output_type": "execute_result"
    }
   ],
   "source": [
    "\"a\" + \"b\""
   ]
  },
  {
   "cell_type": "code",
   "execution_count": 18,
   "metadata": {},
   "outputs": [
    {
     "name": "stdout",
     "output_type": "stream",
     "text": [
      "PIAIC Student Card\n",
      "Student Name: Samar saeed\n"
     ]
    }
   ],
   "source": [
    "#  boundries\n",
    "#  'string text', \"string text\", '''string text''', \"\"\"string\"\"\"\n",
    "#  string text type script\n",
    "\n",
    "name : str = \"Samar saeed\"\n",
    "fname : str = \"Abdul Saeed\"\n",
    "education : str = \"Intermediate\"\n",
    "age : int = 18\n",
    "card : str = \"PIAIC Student Card\\nStudent Name: \" + name\n",
    "\n",
    "print(card)\n"
   ]
  },
  {
   "cell_type": "code",
   "execution_count": 22,
   "metadata": {},
   "outputs": [
    {
     "ename": "TypeError",
     "evalue": "can only concatenate str (not \"int\") to str",
     "output_type": "error",
     "traceback": [
      "\u001b[1;31m---------------------------------------------------------------------------\u001b[0m",
      "\u001b[1;31mTypeError\u001b[0m                                 Traceback (most recent call last)",
      "Cell \u001b[1;32mIn[22], line 9\u001b[0m\n\u001b[0;32m      7\u001b[0m education : \u001b[38;5;28mstr\u001b[39m \u001b[38;5;241m=\u001b[39m \u001b[38;5;124m\"\u001b[39m\u001b[38;5;124mIntermediate\u001b[39m\u001b[38;5;124m\"\u001b[39m\n\u001b[0;32m      8\u001b[0m age : \u001b[38;5;28mint\u001b[39m \u001b[38;5;241m=\u001b[39m \u001b[38;5;241m18\u001b[39m\n\u001b[1;32m----> 9\u001b[0m card : \u001b[38;5;28mstr\u001b[39m \u001b[38;5;241m=\u001b[39m \u001b[38;5;124;43m\"\u001b[39;49m\u001b[38;5;124;43mPIAIC Student Card\u001b[39;49m\u001b[38;5;130;43;01m\\n\u001b[39;49;00m\u001b[38;5;124;43mStudent Name: \u001b[39;49m\u001b[38;5;124;43m\"\u001b[39;49m\u001b[43m \u001b[49m\u001b[38;5;241;43m+\u001b[39;49m\u001b[43m \u001b[49m\u001b[43mname\u001b[49m\u001b[43m \u001b[49m\u001b[38;5;241;43m+\u001b[39;49m\u001b[43m \u001b[49m\u001b[38;5;124;43m\"\u001b[39;49m\u001b[38;5;130;43;01m\\n\u001b[39;49;00m\u001b[38;5;124;43mage: \u001b[39;49m\u001b[38;5;124;43m\"\u001b[39;49m\u001b[43m \u001b[49m\u001b[38;5;241;43m+\u001b[39;49m\u001b[43m \u001b[49m\u001b[43mage\u001b[49m\n\u001b[0;32m     11\u001b[0m \u001b[38;5;28mprint\u001b[39m(card)\n",
      "\u001b[1;31mTypeError\u001b[0m: can only concatenate str (not \"int\") to str"
     ]
    }
   ],
   "source": [
    "#  boundries\n",
    "#  'string text', \"string text\", '''string text''', \"\"\"string\"\"\"\n",
    "#  string text type script\n",
    "\n",
    "name : str = \"Samar saeed\"\n",
    "fname : str = \"Abdul Saeed\"\n",
    "education : str = \"Intermediate\"\n",
    "age : int = 18\n",
    "card : str = \"PIAIC Student Card\\nStudent Name: \" + name + \"\\nage: \" + age\n",
    "\n",
    "print(card)\n"
   ]
  },
  {
   "cell_type": "code",
   "execution_count": 23,
   "metadata": {},
   "outputs": [
    {
     "name": "stdout",
     "output_type": "stream",
     "text": [
      "PIAIC Student Card\n",
      "Student Name: Samar saeed\n",
      "age: 18\n"
     ]
    }
   ],
   "source": [
    "#  boundries\n",
    "#  'string text', \"string text\", '''string text''', \"\"\"string\"\"\"\n",
    "#  string text type script\n",
    "\n",
    "name : str = \"Samar saeed\"\n",
    "fname : str = \"Abdul Saeed\"\n",
    "education : str = \"Intermediate\"\n",
    "age : str = \"18\"\n",
    "card : str = \"PIAIC Student Card\\nStudent Name: \" + name + \"\\nage: \" + age\n",
    "\n",
    "print(card)\n"
   ]
  },
  {
   "cell_type": "markdown",
   "metadata": {},
   "source": [
    "## Define multiline string \"\"\" \"\"\", ''' '''"
   ]
  },
  {
   "cell_type": "code",
   "execution_count": 27,
   "metadata": {},
   "outputs": [
    {
     "name": "stdout",
     "output_type": "stream",
     "text": [
      " \n",
      "PIAIC Student Card\n",
      "Student Name: ....\n",
      "Father's Name: ....\n",
      "age: ....\n",
      "Education: ....\n",
      "\n"
     ]
    }
   ],
   "source": [
    "\n",
    "name : str = \"Samar saeed\"\n",
    "fname : str = \"Abdul Saeed\"\n",
    "education : str = \"Intermediate\"\n",
    "age : str = \"18\"\n",
    "card : str = \"\"\" \n",
    "PIAIC Student Card\n",
    "Student Name: ....\n",
    "Father's Name: ....\n",
    "age: ....\n",
    "Education: ....\n",
    "\"\"\"\n",
    "\n",
    "print(card)"
   ]
  },
  {
   "cell_type": "markdown",
   "metadata": {},
   "source": [
    "## F-string\n"
   ]
  },
  {
   "cell_type": "code",
   "execution_count": 28,
   "metadata": {},
   "outputs": [
    {
     "name": "stdout",
     "output_type": "stream",
     "text": [
      " \n",
      "PIAIC Student Card\n",
      "Student Name: Samar saeed\n",
      "Father's Name: Abdul Saeed\n",
      "age: 18\n",
      "Education: Intermediate\n",
      "\n"
     ]
    }
   ],
   "source": [
    "\n",
    "name : str = \"Samar saeed\"\n",
    "fname : str = \"Abdul Saeed\"\n",
    "education : str = \"Intermediate\"\n",
    "age : str = \"18\"\n",
    "\n",
    "card : str = f\"\"\" \n",
    "PIAIC Student Card\n",
    "Student Name: {name}\n",
    "Father's Name: {fname}\n",
    "age: {age}\n",
    "Education: {education}\n",
    "\"\"\"\n",
    "\n",
    "print(card)"
   ]
  },
  {
   "cell_type": "code",
   "execution_count": 29,
   "metadata": {},
   "outputs": [
    {
     "name": "stdout",
     "output_type": "stream",
     "text": [
      " \n",
      "PIAIC Student Card\n",
      "Student Name: Samar saeed\n",
      "Father's Name: Abdul Saeed\n",
      "age: 18\n",
      "Education: Intermediate\n",
      "\n"
     ]
    }
   ],
   "source": [
    "\n",
    "name : str = \"Samar saeed\"\n",
    "fname : str = \"Abdul Saeed\"\n",
    "education : str = \"Intermediate\"\n",
    "age : str = \"18\"\n",
    "\n",
    "card : str = f''' \n",
    "PIAIC Student Card\n",
    "Student Name: {name}\n",
    "Father's Name: {fname}\n",
    "age: {age}\n",
    "Education: {education}\n",
    "'''\n",
    "\n",
    "print(card)"
   ]
  },
  {
   "cell_type": "code",
   "execution_count": 51,
   "metadata": {},
   "outputs": [
    {
     "name": "stdout",
     "output_type": "stream",
     "text": [
      "Samar saeed\n",
      "samar saeed\n",
      "SAMAR SAEED\n",
      "False\n",
      "False\n",
      "Samar Saeed\n",
      "False\n",
      "False\n",
      "False\n",
      "True\n"
     ]
    }
   ],
   "source": [
    "name = \"samAR SaEeD\"\n",
    "\n",
    "print(name.capitalize())\n",
    "print(name.lower())\n",
    "print(name.upper())\n",
    "print(name.isupper())\n",
    "print(name.islower())\n",
    "print(name.title())\n",
    "print(name.isdigit())\n",
    "print(name.isnumeric())\n",
    "print(name.istitle())\n",
    "print(name.isprintable())"
   ]
  },
  {
   "cell_type": "code",
   "execution_count": 54,
   "metadata": {},
   "outputs": [
    {
     "name": "stdout",
     "output_type": "stream",
     "text": [
      " \n",
      "PIAIC Student Card\n",
      "Student Name: Samar saeed\n",
      "Father's Name: Abdul Saeed\n",
      "age: Intermediate\n",
      "Education: 18\n",
      "\n"
     ]
    }
   ],
   "source": [
    "\n",
    "name : str = \"Samar saeed\"\n",
    "fname : str = \"Abdul Saeed\"\n",
    "education : str = \"Intermediate\"\n",
    "age : str = \"18\"\n",
    "\n",
    "card : str = \"\"\" \n",
    "PIAIC Student Card\n",
    "Student Name: {}\n",
    "Father's Name: {}\n",
    "age: {}\n",
    "Education: {}\n",
    "\"\"\".format(name, fname, education, age)\n",
    "\n",
    "print(card)"
   ]
  },
  {
   "cell_type": "code",
   "execution_count": 55,
   "metadata": {},
   "outputs": [
    {
     "name": "stdout",
     "output_type": "stream",
     "text": [
      " \n",
      "PIAIC Student Card\n",
      "Student Name: Samar saeed\n",
      "Father's Name: Abdul Saeed\n",
      "age: 18\n",
      "Education: Intermediate\n",
      "\n"
     ]
    }
   ],
   "source": [
    "\n",
    "name : str = \"Samar saeed\"\n",
    "fname : str = \"Abdul Saeed\"\n",
    "education : str = \"Intermediate\"\n",
    "age : str = \"18\"\n",
    "\n",
    "card : str = \"\"\" \n",
    "PIAIC Student Card\n",
    "Student Name: {0}\n",
    "Father's Name: {1}\n",
    "age: {3}\n",
    "Education: {2}\n",
    "\"\"\".format( name, fname, education, age )\n",
    "\n",
    "print(card)"
   ]
  },
  {
   "cell_type": "code",
   "execution_count": 57,
   "metadata": {},
   "outputs": [
    {
     "name": "stdout",
     "output_type": "stream",
     "text": [
      " \n",
      "PIAIC Student Card\n",
      "Student Name: Samar saeed\n",
      "Father's Name: Abdul Saeed\n",
      "age: 18\n",
      "Education: Intermediate\n",
      "\n"
     ]
    }
   ],
   "source": [
    "\n",
    "name : str = \"Samar saeed\"\n",
    "fname : str = \"Abdul Saeed\"\n",
    "education : str = \"Intermediate\"\n",
    "age : str = \"18\"\n",
    "\n",
    "card : str = \"\"\" \n",
    "PIAIC Student Card\n",
    "Student Name: {a}\n",
    "Father's Name: {b}\n",
    "age: {c}\n",
    "Education: {d}\n",
    "\"\"\".format( a=name, b=fname, c=age, d=education )\n",
    "\n",
    "print(card)"
   ]
  },
  {
   "cell_type": "markdown",
   "metadata": {},
   "source": [
    "# Explore String methods & attributes\n",
    "\n",
    "Pre-define global function we have use\n",
    "* print\n",
    "* type\n",
    "* id\n",
    "* dir\n",
    "* len"
   ]
  },
  {
   "cell_type": "code",
   "execution_count": 62,
   "metadata": {},
   "outputs": [
    {
     "name": "stdout",
     "output_type": "stream",
     "text": [
      "SaMAr SaEeD\n",
      "Samar saeed\n"
     ]
    }
   ],
   "source": [
    "name : str = \"SaMAr SaEeD\"\n",
    "\n",
    "# variable_name.method()\n",
    "print(name)\n",
    "print(name.capitalize())"
   ]
  },
  {
   "cell_type": "code",
   "execution_count": 63,
   "metadata": {},
   "outputs": [
    {
     "name": "stdout",
     "output_type": "stream",
     "text": [
      "SaMAr SaEeD\n",
      "samar saeed\n"
     ]
    }
   ],
   "source": [
    "name : str = \"SaMAr SaEeD\"\n",
    "\n",
    "# variable_name.method()\n",
    "print(name)\n",
    "print(name.casefold())"
   ]
  },
  {
   "cell_type": "code",
   "execution_count": 61,
   "metadata": {},
   "outputs": [
    {
     "name": "stdout",
     "output_type": "stream",
     "text": [
      "SaMAr SaEeD\n",
      "samar saeed\n"
     ]
    }
   ],
   "source": [
    "name : str = \"SaMAr SaEeD\"\n",
    "\n",
    "# variable_name.method()\n",
    "print(name)\n",
    "print(name.lower())"
   ]
  },
  {
   "cell_type": "code",
   "execution_count": 67,
   "metadata": {},
   "outputs": [
    {
     "data": {
      "text/plain": [
       "'       SaMAr SaEeD       '"
      ]
     },
     "metadata": {},
     "output_type": "display_data"
    },
    {
     "data": {
      "text/plain": [
       "'SaMAr SaEeD       '"
      ]
     },
     "metadata": {},
     "output_type": "display_data"
    }
   ],
   "source": [
    "name : str = \"       SaMAr SaEeD       \"\n",
    "\n",
    "# variable_name.method()\n",
    "display(name)\n",
    "display(name.lstrip())"
   ]
  },
  {
   "cell_type": "code",
   "execution_count": 68,
   "metadata": {},
   "outputs": [
    {
     "data": {
      "text/plain": [
       "'       SaMAr SaEeD       '"
      ]
     },
     "metadata": {},
     "output_type": "display_data"
    },
    {
     "data": {
      "text/plain": [
       "'       SaMAr SaEeD'"
      ]
     },
     "metadata": {},
     "output_type": "display_data"
    }
   ],
   "source": [
    "name : str = \"       SaMAr SaEeD       \"\n",
    "\n",
    "# variable_name.method()\n",
    "display(name)\n",
    "display(name.rstrip())"
   ]
  },
  {
   "cell_type": "code",
   "execution_count": 69,
   "metadata": {},
   "outputs": [
    {
     "data": {
      "text/plain": [
       "'       SaMAr SaEeD       '"
      ]
     },
     "metadata": {},
     "output_type": "display_data"
    },
    {
     "data": {
      "text/plain": [
       "'SaMAr SaEeD'"
      ]
     },
     "metadata": {},
     "output_type": "display_data"
    }
   ],
   "source": [
    "name : str = \"       SaMAr SaEeD       \"\n",
    "\n",
    "# variable_name.method()\n",
    "display(name)\n",
    "display(name.strip())"
   ]
  },
  {
   "cell_type": "code",
   "execution_count": 79,
   "metadata": {},
   "outputs": [
    {
     "data": {
      "text/plain": [
       "'       SaMArSaEeD       '"
      ]
     },
     "metadata": {},
     "output_type": "display_data"
    },
    {
     "data": {
      "text/plain": [
       "'SaMArSaEeD'"
      ]
     },
     "metadata": {},
     "output_type": "display_data"
    }
   ],
   "source": [
    "import re\n",
    "\n",
    "name : str = \"       SaMAr        SaEeD       \"\n",
    "\n",
    "display(name)\n",
    "\n",
    "name1 : str = re.sub(' {2.1000}',' ', name).strip()\n",
    "display(name1)"
   ]
  },
  {
   "cell_type": "code",
   "execution_count": 80,
   "metadata": {},
   "outputs": [
    {
     "name": "stdout",
     "output_type": "stream",
     "text": [
      "SaMAr SaEeD\n",
      "Samar Saeed\n"
     ]
    }
   ],
   "source": [
    "name : str = \"SaMAr SaEeD\"\n",
    "\n",
    "# variable_name.method()\n",
    "print(name)\n",
    "print(name.title())"
   ]
  },
  {
   "cell_type": "code",
   "execution_count": 81,
   "metadata": {},
   "outputs": [
    {
     "name": "stdout",
     "output_type": "stream",
     "text": [
      "SaMAr SaEeD\n",
      "SAMAR SAEED\n"
     ]
    }
   ],
   "source": [
    "name : str = \"SaMAr SaEeD\"\n",
    "\n",
    "# variable_name.method()\n",
    "print(name)\n",
    "print(name.upper())"
   ]
  },
  {
   "cell_type": "code",
   "execution_count": null,
   "metadata": {},
   "outputs": [],
   "source": [
    "name : str = \"SaMAr SaEeD\"\n",
    "\n",
    "# variable_name.method()\n",
    "print(name)\n",
    "print(name.title())"
   ]
  }
 ],
 "metadata": {
  "kernelspec": {
   "display_name": "Python12",
   "language": "python",
   "name": "python3"
  },
  "language_info": {
   "codemirror_mode": {
    "name": "ipython",
    "version": 3
   },
   "file_extension": ".py",
   "mimetype": "text/x-python",
   "name": "python",
   "nbconvert_exporter": "python",
   "pygments_lexer": "ipython3",
   "version": "3.12.0"
  }
 },
 "nbformat": 4,
 "nbformat_minor": 2
}
